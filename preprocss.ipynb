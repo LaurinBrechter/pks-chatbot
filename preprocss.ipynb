{
 "cells": [
  {
   "cell_type": "code",
   "execution_count": 2,
   "metadata": {},
   "outputs": [],
   "source": [
    "import pandas as pd"
   ]
  },
  {
   "cell_type": "code",
   "execution_count": 10,
   "metadata": {},
   "outputs": [],
   "source": [
    "report = pd.read_excel('/home/laurinbrechter/Documents/Code/pks-chatbot/data/PKS2013.xlsx')\n",
    "report.rename(columns={'Straftat': 'crime', 'Bundesland':'state', 'erfasste Fälle 2013': 'num_cases'}, inplace=True)\n",
    "report = report[['crime', 'state', 'num_cases']]"
   ]
  },
  {
   "cell_type": "code",
   "execution_count": 11,
   "metadata": {},
   "outputs": [
    {
     "data": {
      "text/plain": [
       "14050"
      ]
     },
     "execution_count": 11,
     "metadata": {},
     "output_type": "execute_result"
    }
   ],
   "source": [
    "report.to_sql('pks2013', 'sqlite:///data/pks2013.db', if_exists='replace', index=False)"
   ]
  },
  {
   "cell_type": "code",
   "execution_count": null,
   "metadata": {
    "vscode": {
     "languageId": "javascript"
    }
   },
   "outputs": [],
   "source": [
    "schema = [\n",
    "    {\n",
    "        'name': 'crime',\n",
    "        'type': 'string',\n",
    "        'description': 'Type of crime'\n",
    "    },\n",
    "    {\n",
    "        'name': 'state',\n",
    "        'type': 'string',\n",
    "        'description': 'state where the type of crimes were committed'\n",
    "    },\n",
    "    {\n",
    "        'name': 'num_cases',\n",
    "        'type': 'integer',\n",
    "        'description': 'Number of crimes in the given year and state'\n",
    "    }\n",
    "]"
   ]
  },
  {
   "cell_type": "code",
   "execution_count": 3,
   "metadata": {},
   "outputs": [],
   "source": [
    "p = pd.read_parquet('/home/laurinbrechter/Documents/Code/pks-chatbot/data/pks.parquet')"
   ]
  },
  {
   "cell_type": "code",
   "execution_count": 12,
   "metadata": {},
   "outputs": [
    {
     "data": {
      "text/plain": [
       "800"
      ]
     },
     "execution_count": 12,
     "metadata": {},
     "output_type": "execute_result"
    }
   ],
   "source": [
    "p.iloc[200:1000].to_sql('pks', 'sqlite:///data/pks.db', if_exists='replace', index=False)"
   ]
  },
  {
   "cell_type": "code",
   "execution_count": null,
   "metadata": {},
   "outputs": [],
   "source": []
  }
 ],
 "metadata": {
  "kernelspec": {
   "display_name": "Python 3",
   "language": "python",
   "name": "python3"
  },
  "language_info": {
   "codemirror_mode": {
    "name": "ipython",
    "version": 3
   },
   "file_extension": ".py",
   "mimetype": "text/x-python",
   "name": "python",
   "nbconvert_exporter": "python",
   "pygments_lexer": "ipython3",
   "version": "3.11.4"
  }
 },
 "nbformat": 4,
 "nbformat_minor": 2
}
